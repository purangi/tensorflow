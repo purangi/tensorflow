{
  "nbformat": 4,
  "nbformat_minor": 0,
  "metadata": {
    "colab": {
      "name": "210330당일과제01.ipynb",
      "provenance": [],
      "toc_visible": true,
      "authorship_tag": "ABX9TyOp+Pm4Sy7YiiL2HpdZe/DW",
      "include_colab_link": true
    },
    "kernelspec": {
      "name": "python3",
      "display_name": "Python 3"
    },
    "language_info": {
      "name": "python"
    }
  },
  "cells": [
    {
      "cell_type": "markdown",
      "metadata": {
        "id": "view-in-github",
        "colab_type": "text"
      },
      "source": [
        "<a href=\"https://colab.research.google.com/github/purangi/tensorflow/blob/main/210330%EB%8B%B9%EC%9D%BC%EA%B3%BC%EC%A0%9C01.ipynb\" target=\"_parent\"><img src=\"https://colab.research.google.com/assets/colab-badge.svg\" alt=\"Open In Colab\"/></a>"
      ]
    },
    {
      "cell_type": "code",
      "metadata": {
        "colab": {
          "base_uri": "https://localhost:8080/"
        },
        "id": "3rM9-7ICAFN0",
        "outputId": "2fd362e3-f546-4f5e-bb14-6d3333265965"
      },
      "source": [
        "import tensorflow as tf\n",
        "import random\n",
        "\n",
        "tf.random.set_seed(0) #for reproducibility\n",
        "\n",
        "x_data = [ 1., 2., 3., 4. ]\n",
        "y_data = [ 1., 3., 5., 7. ]\n",
        "\n",
        "W = tf.Variable(tf.random.normal([1], -100., 100.))\n",
        "\n",
        "for step in range(300):\n",
        "  hypothesis = W * x_data\n",
        "  cost = tf.reduce_mean(tf.square(hypothesis - y_data))\n",
        "\n",
        "  alpha = 0.01\n",
        "  gradient = tf.reduce_mean(tf.multiply(tf.multiply(W, x_data) - y_data, x_data))\n",
        "  descent = W - tf.multiply(alpha, gradient)\n",
        "  W.assign(descent)\n",
        "\n",
        "  if step % 10 == 0:\n",
        "    print('{:5}  | {:10.4f} | {:10.6f}'.format (\n",
        "        step, cost.numpy(), W.numpy()[0]))"
      ],
      "execution_count": 5,
      "outputs": [
        {
          "output_type": "stream",
          "text": [
            "    0  | 18332.2188 |  47.398293\n",
            "   10  |  3855.3564 |  22.638384\n",
            "   20  |   810.9046 |  11.283927\n",
            "   30  |   170.6631 |   6.076973\n",
            "   40  |    36.0217 |   3.689155\n",
            "   50  |     7.7069 |   2.594144\n",
            "   60  |     1.7524 |   2.091991\n",
            "   70  |     0.5001 |   1.861713\n",
            "   80  |     0.2368 |   1.756112\n",
            "   90  |     0.1814 |   1.707684\n",
            "  100  |     0.1698 |   1.685477\n",
            "  110  |     0.1673 |   1.675292\n",
            "  120  |     0.1668 |   1.670622\n",
            "  130  |     0.1667 |   1.668481\n",
            "  140  |     0.1667 |   1.667498\n",
            "  150  |     0.1667 |   1.667048\n",
            "  160  |     0.1667 |   1.666842\n",
            "  170  |     0.1667 |   1.666747\n",
            "  180  |     0.1667 |   1.666703\n",
            "  190  |     0.1667 |   1.666684\n",
            "  200  |     0.1667 |   1.666674\n",
            "  210  |     0.1667 |   1.666670\n",
            "  220  |     0.1667 |   1.666668\n",
            "  230  |     0.1667 |   1.666667\n",
            "  240  |     0.1667 |   1.666667\n",
            "  250  |     0.1667 |   1.666667\n",
            "  260  |     0.1667 |   1.666667\n",
            "  270  |     0.1667 |   1.666667\n",
            "  280  |     0.1667 |   1.666667\n",
            "  290  |     0.1667 |   1.666667\n"
          ],
          "name": "stdout"
        }
      ]
    }
  ]
}