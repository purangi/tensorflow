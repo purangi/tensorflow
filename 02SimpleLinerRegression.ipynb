{
  "nbformat": 4,
  "nbformat_minor": 0,
  "metadata": {
    "colab": {
      "name": "02SimpleLinerRegression.ipynb",
      "provenance": [],
      "authorship_tag": "ABX9TyOp3fUSXfqGqhwQXjw0Tfgj",
      "include_colab_link": true
    },
    "kernelspec": {
      "name": "python3",
      "display_name": "Python 3"
    },
    "language_info": {
      "name": "python"
    }
  },
  "cells": [
    {
      "cell_type": "markdown",
      "metadata": {
        "id": "view-in-github",
        "colab_type": "text"
      },
      "source": [
        "<a href=\"https://colab.research.google.com/github/purangi/tensorflow/blob/main/02SimpleLinerRegression.ipynb\" target=\"_parent\"><img src=\"https://colab.research.google.com/assets/colab-badge.svg\" alt=\"Open In Colab\"/></a>"
      ]
    },
    {
      "cell_type": "code",
      "metadata": {
        "id": "Lq-RF5_dzKkg",
        "colab": {
          "base_uri": "https://localhost:8080/"
        },
        "outputId": "06006375-cc3c-45ed-ac51-0c6bf3a55f65"
      },
      "source": [
        "import tensorflow as tf\n",
        "tf.executing_eagerly()\n",
        "\n",
        "#Data\n",
        "x_data = [1,2,3,4,5]\n",
        "y_data = [1,2,3,4,5]\n",
        "\n",
        "#W,b initialize\n",
        "W = tf.Variable(2.9)\n",
        "b = tf.Variable(0.5)\n",
        "\n",
        "#Learning_rate initialize\n",
        "learning_rate = 0.01\n",
        "\n",
        "for i in range(100 +1): #W,b update\n",
        "    #Gradient descent\n",
        "    with tf.GradientTape() as tape:\n",
        "        hypothesis = W * x_data + b\n",
        "        cost = tf.reduce_mean(tf.square(hypothesis - y_data))\n",
        "    W_grad, b_grad = tape.gradient(cost, [W,b])\n",
        "    W.assign_sub(learning_rate * W_grad)\n",
        "    b.assign_sub(learning_rate * b_grad)\n",
        "    if i % 10 == 0:\n",
        "        print(\"{:5}|{:10.4}|{:10.4}|{:10.6f}\".format(i, W.numpy(), b.numpy(), cost))\n"
      ],
      "execution_count": 4,
      "outputs": [
        {
          "output_type": "stream",
          "text": [
            "    0|     2.452|     0.376| 45.660004\n",
            "   10|     1.104|  0.003398|  0.206336\n",
            "   20|     1.013|  -0.02091|  0.001026\n",
            "   30|     1.007|  -0.02184|  0.000093\n",
            "   40|     1.006|  -0.02123|  0.000083\n",
            "   50|     1.006|  -0.02053|  0.000077\n",
            "   60|     1.005|  -0.01984|  0.000072\n",
            "   70|     1.005|  -0.01918|  0.000067\n",
            "   80|     1.005|  -0.01854|  0.000063\n",
            "   90|     1.005|  -0.01793|  0.000059\n",
            "  100|     1.005|  -0.01733|  0.000055\n"
          ],
          "name": "stdout"
        }
      ]
    }
  ]
}