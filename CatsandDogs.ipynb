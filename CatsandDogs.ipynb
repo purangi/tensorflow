{
  "nbformat": 4,
  "nbformat_minor": 0,
  "metadata": {
    "colab": {
      "name": "CatsandDogs.ipynb",
      "provenance": [],
      "collapsed_sections": [],
      "authorship_tag": "ABX9TyO0G/fyx3uwbwK6Ysmc0ApI",
      "include_colab_link": true
    },
    "kernelspec": {
      "name": "python3",
      "display_name": "Python 3"
    },
    "language_info": {
      "name": "python"
    }
  },
  "cells": [
    {
      "cell_type": "markdown",
      "metadata": {
        "id": "view-in-github",
        "colab_type": "text"
      },
      "source": [
        "<a href=\"https://colab.research.google.com/github/purangi/tensorflow/blob/main/CatsandDogs.ipynb\" target=\"_parent\"><img src=\"https://colab.research.google.com/assets/colab-badge.svg\" alt=\"Open In Colab\"/></a>"
      ]
    },
    {
      "cell_type": "code",
      "metadata": {
        "colab": {
          "base_uri": "https://localhost:8080/"
        },
        "id": "vNLUCgJgvveh",
        "outputId": "2b2e6881-7a70-40c4-cc59-70a25e676b49"
      },
      "source": [
        "import os\n",
        "import numpy as np\n",
        "import tensorflow as tf\n",
        "\n",
        "SIZE = 62\n",
        "BATCH = 32\n",
        "EPOCHS = 10\n",
        "data_dir = os.path.join(os.getcwd(), 'drive/MyDrive/training_set')\n",
        "\n",
        "from tensorflow.keras.preprocessing.image import ImageDataGenerator\n",
        "#data augmentation : 적은 양의 데이터를 변형하여 인위적으로 많은 양의 데이터 생성\n",
        "\n",
        "#train_datagen\n",
        "ImageGenerator = ImageDataGenerator(rescale = 1./255, validation_split =.2)\n",
        "\n",
        "X_train = ImageGenerator.flow_from_directory(\n",
        "    data_dir, target_size = (SIZE, SIZE), subset = 'training')\n",
        "\n",
        "X_valid = ImageGenerator.flow_from_directory(\n",
        "    data_dir, target_size = (SIZE, SIZE), subset = 'validation')\n",
        "\n",
        "from tensorflow.keras.models import Sequential\n",
        "from tensorflow.keras import layers\n",
        "\n",
        "num_classes = 2\n",
        "\n",
        "model = Sequential()\n",
        "model.add(layers.InputLayer(input_shape = (SIZE, SIZE, 3)))\n",
        "model.add(layers.Conv2D(32, kernel_size = 3, strides = 1, padding='same', activation='relu'))\n",
        "model.add(layers.MaxPooling2D((2,2)))\n",
        "model.add(layers.Conv2D(64, kernel_size=3, strides = 1, padding='same', activation='relu'))\n",
        "model.add(layers.MaxPooling2D((2,2)))\n",
        "model.add(layers.Conv2D(128, kernel_size=3, strides = 1, padding='same', activation='relu'))\n",
        "model.add(layers.MaxPooling2D((2,2)))\n",
        "\n",
        "model.add(layers.Flatten())\n",
        "model.add(layers.Dense(512, activation='relu'))\n",
        "model.add(layers.Dense(256, activation='relu'))\n",
        "model.add(layers.Dense(num_classes, activation='sigmoid'))\n",
        "\n",
        "model.summary()\n",
        "\n",
        "model.compile(optimizer = 'adam', loss='binary_crossentropy', metrics=['accuracy'])\n",
        "history = model.fit(X_train, epochs=EPOCHS, validation_data = X_valid)\n"
      ],
      "execution_count": 15,
      "outputs": [
        {
          "output_type": "stream",
          "text": [
            "Found 6404 images belonging to 2 classes.\n",
            "Found 1601 images belonging to 2 classes.\n",
            "Model: \"sequential\"\n",
            "_________________________________________________________________\n",
            "Layer (type)                 Output Shape              Param #   \n",
            "=================================================================\n",
            "conv2d (Conv2D)              (None, 62, 62, 32)        896       \n",
            "_________________________________________________________________\n",
            "max_pooling2d (MaxPooling2D) (None, 31, 31, 32)        0         \n",
            "_________________________________________________________________\n",
            "conv2d_1 (Conv2D)            (None, 31, 31, 64)        18496     \n",
            "_________________________________________________________________\n",
            "max_pooling2d_1 (MaxPooling2 (None, 15, 15, 64)        0         \n",
            "_________________________________________________________________\n",
            "conv2d_2 (Conv2D)            (None, 15, 15, 128)       73856     \n",
            "_________________________________________________________________\n",
            "max_pooling2d_2 (MaxPooling2 (None, 7, 7, 128)         0         \n",
            "_________________________________________________________________\n",
            "flatten (Flatten)            (None, 6272)              0         \n",
            "_________________________________________________________________\n",
            "dense (Dense)                (None, 512)               3211776   \n",
            "_________________________________________________________________\n",
            "dense_1 (Dense)              (None, 256)               131328    \n",
            "_________________________________________________________________\n",
            "dense_2 (Dense)              (None, 2)                 514       \n",
            "=================================================================\n",
            "Total params: 3,436,866\n",
            "Trainable params: 3,436,866\n",
            "Non-trainable params: 0\n",
            "_________________________________________________________________\n",
            "Epoch 1/10\n",
            "201/201 [==============================] - 1525s 8s/step - loss: 0.6653 - accuracy: 0.5843 - val_loss: 0.5973 - val_accuracy: 0.6921\n",
            "Epoch 2/10\n",
            "201/201 [==============================] - 84s 415ms/step - loss: 0.5568 - accuracy: 0.7135 - val_loss: 0.5379 - val_accuracy: 0.7283\n",
            "Epoch 3/10\n",
            "201/201 [==============================] - 83s 414ms/step - loss: 0.5109 - accuracy: 0.7520 - val_loss: 0.5597 - val_accuracy: 0.7114\n",
            "Epoch 4/10\n",
            "201/201 [==============================] - 83s 414ms/step - loss: 0.4505 - accuracy: 0.7886 - val_loss: 0.4914 - val_accuracy: 0.7689\n",
            "Epoch 5/10\n",
            "201/201 [==============================] - 83s 412ms/step - loss: 0.3990 - accuracy: 0.8186 - val_loss: 0.4821 - val_accuracy: 0.7683\n",
            "Epoch 6/10\n",
            "201/201 [==============================] - 83s 413ms/step - loss: 0.3450 - accuracy: 0.8468 - val_loss: 0.4782 - val_accuracy: 0.7739\n",
            "Epoch 7/10\n",
            "201/201 [==============================] - 84s 419ms/step - loss: 0.2886 - accuracy: 0.8779 - val_loss: 0.5001 - val_accuracy: 0.7670\n",
            "Epoch 8/10\n",
            "201/201 [==============================] - 84s 418ms/step - loss: 0.2355 - accuracy: 0.8974 - val_loss: 0.6428 - val_accuracy: 0.7689\n",
            "Epoch 9/10\n",
            "201/201 [==============================] - 84s 416ms/step - loss: 0.1796 - accuracy: 0.9246 - val_loss: 0.6184 - val_accuracy: 0.7545\n",
            "Epoch 10/10\n",
            "201/201 [==============================] - 83s 414ms/step - loss: 0.1295 - accuracy: 0.9507 - val_loss: 0.8243 - val_accuracy: 0.7739\n"
          ],
          "name": "stdout"
        }
      ]
    },
    {
      "cell_type": "code",
      "metadata": {
        "colab": {
          "base_uri": "https://localhost:8080/"
        },
        "id": "Vjx__SXj6e4_",
        "outputId": "5bf6ff73-f515-4656-aeb8-46ee646f572a"
      },
      "source": [
        "from google.colab import drive\n",
        "drive.mount('/content/drive')\n"
      ],
      "execution_count": 7,
      "outputs": [
        {
          "output_type": "stream",
          "text": [
            "Mounted at /content/drive\n"
          ],
          "name": "stdout"
        }
      ]
    }
  ]
}